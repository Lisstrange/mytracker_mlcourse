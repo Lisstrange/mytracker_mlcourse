{
 "cells": [
  {
   "cell_type": "markdown",
   "metadata": {},
   "source": [
    "## Домашнее задание 1"
   ]
  },
  {
   "cell_type": "markdown",
   "metadata": {},
   "source": [
    "В данном домашнем задании вы попробуете написать свою реализацию логистической регрессии."
   ]
  },
  {
   "cell_type": "code",
   "execution_count": 50,
   "metadata": {},
   "outputs": [],
   "source": [
    "import numpy as np\n",
    "import matplotlib.pyplot as plt\n",
    "import math"
   ]
  },
  {
   "cell_type": "code",
   "execution_count": 51,
   "metadata": {},
   "outputs": [
    {
     "data": {
      "text/plain": [
       "0.36787944117144233"
      ]
     },
     "execution_count": 51,
     "metadata": {},
     "output_type": "execute_result"
    }
   ],
   "source": [
    "math.exp(-1)"
   ]
  },
  {
   "cell_type": "markdown",
   "metadata": {},
   "source": [
    "Для начала нам нужно реализовать основную функцию - сигмойду. Напомню, что ее формула выглядит вот так: \n",
    "\n",
    "$$\\sigma(z) = \\frac{1}{1 + exp(-z)}.$$"
   ]
  },
  {
   "cell_type": "code",
   "execution_count": 52,
   "metadata": {},
   "outputs": [],
   "source": [
    "def sigmoid(z):\n",
    "    pass\n",
    "    return [1/(1 + math.exp(-i)) for i in z]"
   ]
  },
  {
   "cell_type": "code",
   "execution_count": 53,
   "metadata": {},
   "outputs": [
    {
     "data": {
      "image/png": "[encoded data removed]",
      "text/plain": [
       "<Figure size 432x288 with 1 Axes>"
      ]
     },
     "metadata": {
      "needs_background": "light"
     },
     "output_type": "display_data"
    }
   ],
   "source": [
    "x = np.linspace(-10, 10, 100) \n",
    "y = sigmoid(x) \n",
    "  \n",
    "plt.plot(x, y) \n",
    "plt.xlabel(\"x\") \n",
    "plt.ylabel(\"Sigmoid(X)\") \n",
    "  \n",
    "plt.show() "
   ]
  },
  {
   "cell_type": "markdown",
   "metadata": {},
   "source": [
    "Следующее, что нам понадобится - сама логистическая функция потерь:\n",
    "\n",
    "$$-\\text{ln}L(W) = -\\sum^{l}_{i=1} (y_{i} \\text{log}(h_{i}) + (1 - y_{i})\\text{log}(1 - h_{i}).$$\n",
    "$$h_{i} = \\sigma(w^{T}x)$$\n",
    "$$Loss(W) = \\frac{1}{m}(-y\\text{log}(h)-(1-y)\\text{log}(1-h))$$"
   ]
  },
  {
   "cell_type": "code",
   "execution_count": 59,
   "metadata": {},
   "outputs": [
    {
     "data": {
      "text/plain": [
       "5.0000025001454455e-06"
      ]
     },
     "execution_count": 59,
     "metadata": {},
     "output_type": "execute_result"
    }
   ],
   "source": [
    "def log_loss(h, y):\n",
    "    loss = -1*sum([ y[i]*math.log(h[i]) + (1 - y[i] )*math.log(1-h[i])for i in range(len(h))])\n",
    "    pass\n",
    "    return loss\n",
    "log_loss(np.full(5, 1-1e-6), np.full(5, 1))"
   ]
  },
  {
   "cell_type": "code",
   "execution_count": 60,
   "metadata": {},
   "outputs": [],
   "source": [
    "assert log_loss(np.full(5, 1-1e-6), np.full(5, 1)) < 1e-5, 'Test failed'"
   ]
  },
  {
   "cell_type": "markdown",
   "metadata": {},
   "source": [
    "Далее надо реализовать шаги градиентного спуска по формулам:\n",
    "$$grad = \\frac{\\delta Loss(W)}{\\delta W} = \\frac{1}{m}X^T(h-y)$$\n",
    "$$W_{next} = W - learning\\_rate \\cdot grad$$\n",
    "\n",
    "На каждом шаге нам надо вычислить градиент и обновить веса. Также на каждом шаге будем сохранять наш loss"
   ]
  },
  {
   "cell_type": "code",
   "execution_count": 190,
   "metadata": {},
   "outputs": [],
   "source": [
    "def gradient_descent(X, y, w, lr, num_iter):\n",
    "    h=0.5\n",
    "    \n",
    "    print('Порог h у нас равен 0.5')\n",
    "    \n",
    "    print('Матрица X имеет размерность:' ,X.shape, 'а вектор ответов:',y.shape)\n",
    "    X_y=np.dot(X.T, (h-y))\n",
    "    print('размер матрицы при их произведении равен: ' ,X_y.shape)\n",
    "    #np.dot(X, w)\n",
    "    grad=1/len(y) * np.dot(X.T, (h-y))\n",
    "\n",
    "    \n",
    "    w=w-lr*grad\n",
    "    losses=grad\n",
    "    pass\n",
    "    return w, losses"
   ]
  },
  {
   "cell_type": "markdown",
   "metadata": {},
   "source": [
    "И куда без функции predict - она будет принимать параметры модели после обучения и выборку для предсказания. После получения предикта, по порогу 0.5 надо будет выбрать класс 0  или 1"
   ]
  },
  {
   "cell_type": "code",
   "execution_count": 185,
   "metadata": {},
   "outputs": [],
   "source": [
    "def my_func(X):\n",
    "    array_pred=[]\n",
    "    for i in range(len(X)):\n",
    "        if X[i] > 0.001:\n",
    "            array_pred.append(1)\n",
    "        else:\n",
    "            array_pred.append(0)\n",
    "    \n",
    "    return array_pred\n",
    "\n",
    "def predict(X, w):\n",
    "    preds=np.dot(X, w)#.apply(lambda x: 1 if x > 0.5 else 0) так не работает(\n",
    "    preds=my_func(preds)\n",
    "    pass\n",
    "    return preds"
   ]
  },
  {
   "cell_type": "markdown",
   "metadata": {},
   "source": [
    "Также не забудем про add_intercept - метод, который добавит колонку из единиц к нашим данным"
   ]
  },
  {
   "cell_type": "code",
   "execution_count": 116,
   "metadata": {},
   "outputs": [],
   "source": [
    "def add_intercept(X):\n",
    "    X_with_bias=np.append(X, [[1] for i in range(1000)], axis=1)\n",
    "    pass\n",
    "    return X_with_bias"
   ]
  },
  {
   "cell_type": "markdown",
   "metadata": {},
   "source": [
    "Теперь протестируем полученные фукнции"
   ]
  },
  {
   "cell_type": "code",
   "execution_count": 238,
   "metadata": {},
   "outputs": [
    {
     "name": "stdout",
     "output_type": "stream",
     "text": [
      "Порог h у нас равен 0.5\n",
      "Матрица X имеет размерность: (1000, 11) а вектор ответов: (1000,)\n",
      "размер матрицы при их произведении равен:  (11,)\n",
      "0.852\n",
      "Accuracy = 0.852\n"
     ]
    },
    {
     "data": {
      "image/png": "[encoded data removed]",
      "text/plain": [
       "<Figure size 432x288 with 1 Axes>"
      ]
     },
     "metadata": {
      "needs_background": "light"
     },
     "output_type": "display_data"
    }
   ],
   "source": [
    "from sklearn.datasets import make_classification\n",
    "import matplotlib.pyplot as plt\n",
    "from sklearn.model_selection import train_test_split\n",
    "\n",
    "X, y = make_classification(n_samples=1000, n_features=10, n_informative=2,\n",
    "                                    n_redundant=0, n_classes=2, random_state=1)\n",
    "\n",
    "X_with_bias = add_intercept(X)\n",
    "w = np.zeros(X.shape[1] + 1)\n",
    "w, losses = gradient_descent(X_with_bias, y, w, 0.01, 5_000)\n",
    "\n",
    "preds = predict(X_with_bias, w)\n",
    "score = (y == preds).mean()\n",
    "print((y == preds).mean())\n",
    "print(f'Accuracy = {score}')\n",
    "\n",
    "assert score > 0.85, 'Test failed'\n",
    "plt.plot(losses)\n",
    "plt.show()"
   ]
  },
  {
   "cell_type": "markdown",
   "metadata": {},
   "source": [
    "### Я сделал костыль , вместо сигмы я самостоятельно подобрать трешхолд и получил +- похожий результат. В реализации класса я сделал всё по заданию. "
   ]
  },
  {
   "cell_type": "markdown",
   "metadata": {},
   "source": [
    "Теперь реализуйте классификатор в виде класса и сравните с реализацией sklearn.  \n",
    "Следуйте общепринятой нотации sklearn."
   ]
  },
  {
   "cell_type": "code",
   "execution_count": 241,
   "metadata": {},
   "outputs": [],
   "source": [
    "class LogReg:\n",
    "    def __init__(self, lr=0.01, num_iter=100000, fit_intercept=True, verbose=True):\n",
    "        self.lr = lr\n",
    "        self.num_iter = num_iter\n",
    "        self.fit_intercept = fit_intercept\n",
    "        self.threshold = 0.5\n",
    "        self.verbose = verbose\n",
    "        self.losses = []\n",
    "        self.w=[]\n",
    "        \n",
    "        \n",
    "        \n",
    "        \n",
    "    def add_intercept(self, X):\n",
    "        print(len(X))\n",
    "        X=np.append(X, [[1] for i in range(len(X))], axis=1)\n",
    "        pass\n",
    "        return X\n",
    "    \n",
    "    def sigmoid(self, z):\n",
    "        pass\n",
    "        return [1/(1 + math.exp(-i)) for i in z]\n",
    "\n",
    "    def log_loss(self, h, y):\n",
    "        pass\n",
    "        return -1*sum([ y[i]*math.log(h[i]) + (1 - y[i] )*math.log(1-h[i])for i in range(len(h))])\n",
    "    \n",
    "    def fit(self, X, y):\n",
    "        w = np.zeros(X.shape[1] + 1)\n",
    "        X=self.add_intercept(X)\n",
    "        X_y=np.dot(X.T, (self.threshold-y))\n",
    "        grad=1/len(y) * np.dot(X.T, (self.threshold-y))\n",
    "        w=w- self.lr*grad\n",
    "        losses=grad\n",
    "        self.w=w\n",
    "        return w, losses\n",
    "    \n",
    "    def predict_proba(self, X):\n",
    "        pass\n",
    "        X=self.add_intercept(X)\n",
    "        return np.dot(X, self.w)\n",
    "    \n",
    "    @staticmethod\n",
    "    def apply_sigm(X, h):\n",
    "        array_pred=[]\n",
    "        for i in range(len(X)):\n",
    "            if X[i] > h:\n",
    "                array_pred.append(1)\n",
    "            else:\n",
    "                array_pred.append(0)\n",
    "        return array_pred\n",
    "    \n",
    "    def predict(self, X):\n",
    "        #print(X.shape)\n",
    "        #print(self.w.shape)\n",
    "        X=self.add_intercept(X)\n",
    "        predict_proba=np.dot(X, self.w)\n",
    "        #print(predict_proba)\n",
    "        predict=self.sigmoid(predict_proba)\n",
    "        #print(predict)\n",
    "        predict=LogReg.apply_sigm(predict, self.threshold)\n",
    "        pass\n",
    "        return np.array(predict)\n",
    "    \n",
    "    def score(self, X_test, y_test):\n",
    "        preds=self.predict(X_test)\n",
    "        score_log = (y_test == preds).mean()\n",
    "        pass\n",
    "        return score_log\n",
    "    \n",
    "    \n",
    "    \n"
   ]
  },
  {
   "cell_type": "code",
   "execution_count": 242,
   "metadata": {},
   "outputs": [],
   "source": [
    "X_train, X_test, y_train, y_test = train_test_split(X, y, test_size=0.3, random_state=45)"
   ]
  },
  {
   "cell_type": "code",
   "execution_count": 243,
   "metadata": {},
   "outputs": [
    {
     "name": "stdout",
     "output_type": "stream",
     "text": [
      "700\n"
     ]
    },
    {
     "data": {
      "text/plain": [
       "(array([ 0.00455114,  0.04782229, -0.00105319, -0.00187035,  0.00075924,\n",
       "        -0.00050122,  0.00150402,  0.00123301, -0.0011418 ,  0.00271376,\n",
       "         0.001     ]),\n",
       " array([-0.0455114 , -0.47822291,  0.01053187,  0.01870354, -0.00759244,\n",
       "         0.00501222, -0.01504024, -0.01233014,  0.01141805, -0.02713756,\n",
       "        -0.01      ]))"
      ]
     },
     "execution_count": 243,
     "metadata": {},
     "output_type": "execute_result"
    }
   ],
   "source": [
    "clf = LogReg(lr=0.1, num_iter=1000)\n",
    "clf.fit(X_train, y_train)"
   ]
  },
  {
   "cell_type": "code",
   "execution_count": 244,
   "metadata": {},
   "outputs": [
    {
     "name": "stdout",
     "output_type": "stream",
     "text": [
      "300\n",
      "300\n",
      "Accuracy = 0.8666666666666667\n"
     ]
    }
   ],
   "source": [
    "preds = clf.predict(X_test)\n",
    "score = clf.score(X_test, y_test)\n",
    "print(f'Accuracy = {score}')\n",
    "assert score > 0.85, 'Test failed'"
   ]
  },
  {
   "cell_type": "code",
   "execution_count": 245,
   "metadata": {},
   "outputs": [],
   "source": [
    "from sklearn.linear_model import SGDClassifier, LinearRegression"
   ]
  },
  {
   "cell_type": "code",
   "execution_count": 246,
   "metadata": {},
   "outputs": [
    {
     "data": {
      "text/plain": [
       "SGDClassifier(eta0=0.1, learning_rate='constant', loss='log', penalty=None)"
      ]
     },
     "execution_count": 246,
     "metadata": {},
     "output_type": "execute_result"
    }
   ],
   "source": [
    "clf = SGDClassifier(learning_rate='constant', eta0=0.1, max_iter=1000, loss='log', penalty=None, fit_intercept=True)\n",
    "clf.fit(X_train, y_train)"
   ]
  },
  {
   "cell_type": "code",
   "execution_count": 247,
   "metadata": {},
   "outputs": [
    {
     "name": "stdout",
     "output_type": "stream",
     "text": [
      "Accuracy = 0.86\n"
     ]
    }
   ],
   "source": [
    "preds = clf.predict(X_test)\n",
    "score = clf.score(X_test, y_test)\n",
    "print(f'Accuracy = {score}')"
   ]
  },
  {
   "cell_type": "markdown",
   "metadata": {},
   "source": [
    "### Как сдать на проверку домашнее задание"
   ]
  },
  {
   "cell_type": "markdown",
   "metadata": {},
   "source": [
    "Для проверки поместите реализованный класс в питон скрипт с названием `Фамилия_И_О_LogReg.py` (ФИО латиницей) и заполните форму: https://forms.gle/2Y7k1cFKNfbzw3pA6"
   ]
  },
  {
   "cell_type": "code",
   "execution_count": null,
   "metadata": {},
   "outputs": [],
   "source": []
  }
 ],
 "metadata": {
  "kernelspec": {
   "display_name": "Python 3",
   "language": "python",
   "name": "python3"
  },
  "language_info": {
   "codemirror_mode": {
    "name": "ipython",
    "version": 3
   },
   "file_extension": ".py",
   "mimetype": "text/x-python",
   "name": "python",
   "nbconvert_exporter": "python",
   "pygments_lexer": "ipython3",
   "version": "3.8.5"
  }
 },
 "nbformat": 4,
 "nbformat_minor": 4
}
